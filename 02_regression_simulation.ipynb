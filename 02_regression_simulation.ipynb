{
 "cells": [
  {
   "cell_type": "code",
   "execution_count": 1,
   "metadata": {},
   "outputs": [],
   "source": [
    "import numpy as np\n",
    "import pandas as pd\n",
    "from scipy import stats"
   ]
  },
  {
   "cell_type": "markdown",
   "metadata": {},
   "source": [
    "In the paper, we assume each player draws their true parameters i.i.d. (independent and identically distributed) $(\\theta_j, \\epsilon^2_j) \\sim \\Theta$, for some joint distribution $\\Theta$. $\\epsilon^2_j$ represents the amount of noise present in the sampling process for a given player. For linear regression, $\\theta_j$ is a $D$-dimensional vector representing the coefficients on the true classification function, which is also assumed to be linear. This vector is what each agent wishes to learn. \n",
    "\n",
    "In this notebook, we analyze a one of the simplified cases, where the distribution of input values $\\mathcal{X}_{j}$ is a $D$-dimensional multivariate normal distribution with 0 mean, and where the coefficients $\\theta_d$ for each dimension are drawn independently of each other. In this case, the true expected MSE each player experiences depends only on $n$, the number of samples they have, $\\mu_e = \\mathbb{E}[\\epsilon^2]$, and $\\sigma_d^2 = Var(\\theta_d)$, a $D$ length vector of variances.   "
   ]
  },
  {
   "cell_type": "markdown",
   "metadata": {},
   "source": [
    "For this code, we need a $\\Theta$ to draw from. For simplicity, we assume $\\theta_d \\ d \\in [D], \\epsilon^2$ are independent of each other. In the paper, we use $\\mu_e = 10$ as a common parameter, which we use below. We've selected $D=2$ and $\\theta_1 = 1, \\theta_2 = 2$ for simplicity, which are the values below. Note that the results do not depend on the distributions themselves or other values besides $\\sigma_1^2, \\sigma_2^2, \\mu_e$."
   ]
  },
  {
   "cell_type": "code",
   "execution_count": 2,
   "metadata": {},
   "outputs": [
    {
     "name": "stdout",
     "output_type": "stream",
     "text": [
      "[1.0, 4.0]\n",
      "10.0\n"
     ]
    }
   ],
   "source": [
    "means_dist_1 = stats.norm(loc = 0, scale = 1)\n",
    "means_dist_2 = stats.norm(loc = 3, scale = 2)\n",
    "variance_dist = stats.beta(a=8, b=2, scale = 50/4)\n",
    "print([means_dist_1.var(), means_dist_2.var()])\n",
    "print(variance_dist.mean())"
   ]
  },
  {
   "cell_type": "markdown",
   "metadata": {},
   "source": [
    "calculate_regression() calculates the exact expected MSE a set of players experiences. For reference, the equations it is using are provided below: \n",
    "\n",
    "Local learning: $$\\frac{\\mu_e}{n - D - 1}$$\n",
    "\n",
    "Uniform federation: \n",
    "$$\\mu_e\\sum_{i=1}^{N}\\frac{n_i^2}{N^2}\\frac{D}{n_i - D - 1} + \\frac{\\sum_{i\\ne j}n_i^2 + (N - n_j)^2}{N^2}\\sum_{d=1}^{D}\\mathbb{E}_{x \\sim \\mathcal{X}_j}[(x^d)^2] \\cdot \\sigma^2_d$$\n",
    "where $N = \\sum_{i=1}^{M}n_i$, and $M$ is the number of players. \n",
    "\n",
    "Coarse-grained federation: \n",
    "$$\\mu_e \\cdot (1-w)^2 \\cdot \\sum_{i=1}^{M}\\frac{n_i^2}{N^2}\\frac{D}{n_i - D - 1}+ \\mu_e \\cdot \\left(w^2 + 2 \\cdot \\frac{(1-w) \\cdot w \\cdot n_j}{N}\\right) \\cdot \\frac{D}{n_i - D - 1} + (1-w)^2 \\cdot \\frac{\\sum_{i\\ne j}n_i^2 + (N - n_j)^2}{N^2}\\sum_{d=1}^{D}\\mathbb{E}_{x \\sim \\mathcal{X}_j}[(x^d)^2] \\cdot \\sigma^2_d$$\n",
    "where $w$ is a parameter. \n",
    "\n",
    "Fine-grained federation: \n",
    "\n",
    "$$\\mu_e\\sum_{i=1}^{M}v_{ji}^2\\cdot \\frac{D}{n_i - D - 1} + \\left(\\sum_{i\\ne j}v_{ji}^2 + \\left(\\sum_{i\\ne j}v_{ji}\\right)^2\\right)\\cdot \\sum_{d=1}^{D}\\mathbb{E}_{x \\sim \\mathcal{X}_j}[(x^d)^2] \\cdot \\sigma^2_d$$"
   ]
  },
  {
   "cell_type": "code",
   "execution_count": 3,
   "metadata": {},
   "outputs": [],
   "source": [
    "def calculate_regression(var_vec = [means_dist_1.var(), means_dist_2.var()], mue = variance_dist.mean(), \n",
    "                         n_list = [10, 20, 30], w_list = [0.2, 0.4, 0.6], \n",
    "                         v_mat = [[0.1, 0.6, 0.3], [0.2, 0.8, 0.0], [0.3, 0.5, 0.2]], \n",
    "                         x_vec = [1.0, 1.0]):\n",
    "    '''\n",
    "    Calculate exact error for linear regression, in special case where x-distribution is 0-mean multivariate \n",
    "    normal. Assumes the parameters have 0 correlation (parameter in 1st dimension is independent of parameter\n",
    "    in 2nd dimension, for example). \n",
    "\n",
    "    Args:\n",
    "        var_vec: a list with variance of true parameter values\n",
    "        mue: mean of true error distribution. \n",
    "        n_list: a list of length M (number of players) with the number of samples each has. \n",
    "        w_list: a list of w-weights each player uses (in [0, 1]) for coarse-grained federation. \n",
    "        v_mat: a matrix (list of lists) of weights each player uses in fine-grained federation: the rows sum up \n",
    "               to 1.\n",
    "        x_vec: a list of E[X_d^2] for d in dimension D for input distribution of X. \n",
    "    Returns:\n",
    "        dataframe with average error for each player, for: local, uniform, coarse-grained, and fine-grained \n",
    "        federation.  \n",
    "    '''\n",
    "    # dataframe for storing error\n",
    "    player_error = pd.DataFrame(data = 0.0, index = ['local', 'uniform', 'coarse', 'fine'], \n",
    "                                columns = range(len(n_list)))\n",
    "    N = sum(n_list)\n",
    "    D = len(var_vec)\n",
    "    n_vec = pd.DataFrame(n_list)\n",
    "    \n",
    "    # for each player, calculate their true error \n",
    "    for i in range(len(w_list)):\n",
    "        w = w_list[i]\n",
    "        n = n_list[i]\n",
    "        v_vec = pd.DataFrame(v_mat[i])\n",
    "        \n",
    "        # local\n",
    "        player_error.loc['local'][i] = mue * D/(n - D - 1)\n",
    "        \n",
    "        # uniform\n",
    "        var_prod = pd.DataFrame(x_vec).T.dot(pd.DataFrame(var_vec))[0][0]\n",
    "        \n",
    "        player_error.loc['uniform'][i] = ((mue * D * (n_vec**2).T.dot(1/(n_vec- D -1))/(N**2))[0][0] + \n",
    "                                          var_prod*((n_vec**2).sum() - n**2 + (N- n)**2)[0]/(N**2))\n",
    "        \n",
    "        # coarse-grained\n",
    "        player_error.loc['coarse'][i] = ((mue*D *(1-w)**2 * (n_vec**2).T.dot(1/(n_vec- D -1))/(N**2))[0][0] + \n",
    "                                         mue*D*(w**2 + 2 * (1-w) * w*n/N)/(n-D-1) + \n",
    "                                         (1-w)**2*var_prod*((n_vec**2).sum() - n**2 + (N- n)**2)[0]/(N**2))    \n",
    "      \n",
    "        # fine-grained\n",
    "        player_error.loc['fine'][i] = (mue * D * (v_vec**2).T.dot(1/(pd.DataFrame(n_list)- D -1))[0][0] + \n",
    "                                       var_prod * ((v_vec**2).sum() - v_vec[0][i]**2 + (1 - v_vec[0][i])**2)[0])\n",
    "        \n",
    "    return player_error"
   ]
  },
  {
   "cell_type": "markdown",
   "metadata": {},
   "source": [
    "This returns a dataframe: each column represents a different player and each row represents the error that player experiences under different local or federation strategies. "
   ]
  },
  {
   "cell_type": "code",
   "execution_count": 4,
   "metadata": {},
   "outputs": [
    {
     "data": {
      "text/html": [
       "<div>\n",
       "<style scoped>\n",
       "    .dataframe tbody tr th:only-of-type {\n",
       "        vertical-align: middle;\n",
       "    }\n",
       "\n",
       "    .dataframe tbody tr th {\n",
       "        vertical-align: top;\n",
       "    }\n",
       "\n",
       "    .dataframe thead th {\n",
       "        text-align: right;\n",
       "    }\n",
       "</style>\n",
       "<table border=\"1\" class=\"dataframe\">\n",
       "  <thead>\n",
       "    <tr style=\"text-align: right;\">\n",
       "      <th></th>\n",
       "      <th>0</th>\n",
       "      <th>1</th>\n",
       "      <th>2</th>\n",
       "    </tr>\n",
       "  </thead>\n",
       "  <tbody>\n",
       "    <tr>\n",
       "      <th>local</th>\n",
       "      <td>2.857143</td>\n",
       "      <td>1.176471</td>\n",
       "      <td>0.740741</td>\n",
       "    </tr>\n",
       "    <tr>\n",
       "      <th>uniform</th>\n",
       "      <td>5.673047</td>\n",
       "      <td>4.006380</td>\n",
       "      <td>2.339714</td>\n",
       "    </tr>\n",
       "    <tr>\n",
       "      <th>coarse</th>\n",
       "      <td>3.897417</td>\n",
       "      <td>1.818768</td>\n",
       "      <td>0.818799</td>\n",
       "    </tr>\n",
       "    <tr>\n",
       "      <th>fine</th>\n",
       "      <td>6.818768</td>\n",
       "      <td>1.267227</td>\n",
       "      <td>5.480890</td>\n",
       "    </tr>\n",
       "  </tbody>\n",
       "</table>\n",
       "</div>"
      ],
      "text/plain": [
       "                0         1         2\n",
       "local    2.857143  1.176471  0.740741\n",
       "uniform  5.673047  4.006380  2.339714\n",
       "coarse   3.897417  1.818768  0.818799\n",
       "fine     6.818768  1.267227  5.480890"
      ]
     },
     "execution_count": 4,
     "metadata": {},
     "output_type": "execute_result"
    }
   ],
   "source": [
    "calculate_regression()"
   ]
  },
  {
   "cell_type": "markdown",
   "metadata": {},
   "source": [
    "simulate_regression() simulates the process described above: players draw true mean and variance parameters $\\theta_d, \\epsilon^2$, then $x$ vectors $X_j \\sim \\mathcal{X}_j$, then for each $x$ draw a noisy measure\n",
    "$Y_j \\sim D_j(X_j^T \\theta_j, \\epsilon^2_j)$ $Y \\sim D_j(\\theta, \\epsilon^2)$ and calculate empirical means using local learning or some variant of federation. Results should match calculate_regression() closely, if the same parameters are used and if sufficient simulations are used. "
   ]
  },
  {
   "cell_type": "code",
   "execution_count": 5,
   "metadata": {},
   "outputs": [],
   "source": [
    "def simulate_regression(params_dists = [means_dist_1, means_dist_2], \n",
    "                        err_dist = variance_dist, draws_dist = stats.norm, \n",
    "                        n_list = [10, 20, 30], w_list = [0.2, 0.4, 0.6], \n",
    "                        v_mat = [[0.1, 0.6, 0.3], [0.2, 0.8, 0.0], [0.3, 0.5, 0.2]], \n",
    "                        world_nrun = 100, sample_nrun = 1, test_nrun = 10,\n",
    "                        x_cov = [[1.0, 0.0], [0.0, 1.0]]):\n",
    "    \n",
    "    '''\n",
    "    Simulate regression. \n",
    "    \n",
    "\n",
    "    Args:\n",
    "        params_dists: length-D list of distributions to draw parameters from.  \n",
    "        err_dist: distribution to draw true error parameters from (err = epsilon^2) (scalar)\n",
    "        draws_dist: distribution each player draws from: with mean*X as mean and variance epsilon^2. \n",
    "        n_list: a list of length M (number of players) with the number of samples each has. \n",
    "        w_list: a list of w-weights each player uses for coarse-grained federation.  \n",
    "        v_mat: a matrix (list of lists) of weights each player uses in fine-grained federation: the rows sum up \n",
    "               to 1.\n",
    "        world_nrun: number of times where means and errors are re-drawn\n",
    "        sample_nrun: for each worldrun, number of times samples are re-drawn\n",
    "        test_nrun: for each sample_nrun, number of points we use to calculate expected test error\n",
    "        x_cov: matrix representing covariance of input x distribution\n",
    "        \n",
    "    Returns:\n",
    "        dataframe with average error for each player, for local, uniform, coarse-grained, and fine-grained \n",
    "        federation.  \n",
    "    '''\n",
    "    M = len(w_list)\n",
    "    n_list_pd = pd.DataFrame(n_list)\n",
    "    w_list_pd = pd.DataFrame(w_list)\n",
    "    v_mat_pd = pd.DataFrame(v_mat)\n",
    "    \n",
    "    D = len(x_cov)\n",
    "    mean_x = np.array([0] * D)\n",
    "    x_dist = stats.multivariate_normal(mean = mean_x, cov = x_cov)\n",
    "    \n",
    "    # dataframe for storing error\n",
    "    player_error = pd.DataFrame(data = 0, index = ['local', 'uniform', 'coarse', 'fine'], \n",
    "                                columns = range(len(n_list)))\n",
    "    \n",
    "    \n",
    "    for wn in range(world_nrun):\n",
    "        # draw means and errors\n",
    "        means = pd.DataFrame([dist.rvs(M) for dist in params_dists]).T \n",
    "        errors = err_dist.rvs(M)    \n",
    "        \n",
    "        for sn in range(sample_nrun): \n",
    "            \n",
    "            # draw samples for each player, calculate local estimates\n",
    "            local_est = pd.DataFrame(0, columns = range(D), index = range(M))\n",
    "            for i in range(M):\n",
    "                # draw X values\n",
    "                X = pd.DataFrame(x_dist.rvs(n_list[i]))\n",
    "                \n",
    "                # draw Y values nosily\n",
    "                Y = [draws_dist(X.dot(means.iloc[i])[j], np.sqrt(errors[i])).rvs(1)[0] for j in range(n_list[i])]\n",
    "                \n",
    "                # calculate local estimates through OLS\n",
    "                to_invert = X.T.dot(X)\n",
    "                df_inv = pd.DataFrame(np.linalg.pinv(to_invert.values), to_invert.columns, to_invert.index)\n",
    "                local_est.iloc[i] = df_inv.dot(X.T).dot(Y)\n",
    "            \n",
    "            # calculate federated estimates\n",
    "            uniform_est = local_est.T.dot(n_list_pd)/sum(n_list)\n",
    "            coarse_est = (local_est * w_list_pd.values + \n",
    "                          (1-w_list_pd).values * pd.concat([uniform_est.T]*M, ignore_index=True)) \n",
    "            fine_est = local_est.T.dot(v_mat_pd.T).T\n",
    "            \n",
    "            # calculate expected MSE\n",
    "            X = pd.DataFrame(x_dist.rvs(test_nrun)) # draw test input data\n",
    "            if test_nrun ==1:\n",
    "                X = X.T\n",
    "                \n",
    "            player_error.loc['local'] += ((X.dot(means.T) - X.dot(local_est.T))**2).sum()\n",
    "            player_error.loc['uniform'] += ((X.dot(means.T) - \n",
    "                                 X.dot(pd.concat([uniform_est.T] * M, ignore_index=True).T))**2).sum()\n",
    "            player_error.loc['coarse'] += ((X.dot(means.T) - X.dot(coarse_est.T))**2).sum()\n",
    "            player_error.loc['fine'] += ((X.dot(means.T) - X.dot(fine_est.T))**2).sum()\n",
    "    \n",
    "    player_error = player_error/(world_nrun * sample_nrun * test_nrun)\n",
    "    \n",
    "    return player_error"
   ]
  },
  {
   "cell_type": "markdown",
   "metadata": {},
   "source": [
    "Compare simulations to exact values. "
   ]
  },
  {
   "cell_type": "code",
   "execution_count": 6,
   "metadata": {},
   "outputs": [
    {
     "data": {
      "text/html": [
       "<div>\n",
       "<style scoped>\n",
       "    .dataframe tbody tr th:only-of-type {\n",
       "        vertical-align: middle;\n",
       "    }\n",
       "\n",
       "    .dataframe tbody tr th {\n",
       "        vertical-align: top;\n",
       "    }\n",
       "\n",
       "    .dataframe thead th {\n",
       "        text-align: right;\n",
       "    }\n",
       "</style>\n",
       "<table border=\"1\" class=\"dataframe\">\n",
       "  <thead>\n",
       "    <tr style=\"text-align: right;\">\n",
       "      <th></th>\n",
       "      <th>0</th>\n",
       "      <th>1</th>\n",
       "      <th>2</th>\n",
       "    </tr>\n",
       "  </thead>\n",
       "  <tbody>\n",
       "    <tr>\n",
       "      <th>local</th>\n",
       "      <td>2.703608</td>\n",
       "      <td>1.249858</td>\n",
       "      <td>0.720794</td>\n",
       "    </tr>\n",
       "    <tr>\n",
       "      <th>uniform</th>\n",
       "      <td>5.384239</td>\n",
       "      <td>4.098849</td>\n",
       "      <td>2.304755</td>\n",
       "    </tr>\n",
       "    <tr>\n",
       "      <th>coarse</th>\n",
       "      <td>3.693648</td>\n",
       "      <td>1.854036</td>\n",
       "      <td>0.796649</td>\n",
       "    </tr>\n",
       "    <tr>\n",
       "      <th>fine</th>\n",
       "      <td>6.619304</td>\n",
       "      <td>1.325227</td>\n",
       "      <td>5.387945</td>\n",
       "    </tr>\n",
       "  </tbody>\n",
       "</table>\n",
       "</div>"
      ],
      "text/plain": [
       "                0         1         2\n",
       "local    2.703608  1.249858  0.720794\n",
       "uniform  5.384239  4.098849  2.304755\n",
       "coarse   3.693648  1.854036  0.796649\n",
       "fine     6.619304  1.325227  5.387945"
      ]
     },
     "execution_count": 6,
     "metadata": {},
     "output_type": "execute_result"
    }
   ],
   "source": [
    "simulate_regression(world_nrun = 1000)"
   ]
  },
  {
   "cell_type": "code",
   "execution_count": 7,
   "metadata": {},
   "outputs": [
    {
     "data": {
      "text/html": [
       "<div>\n",
       "<style scoped>\n",
       "    .dataframe tbody tr th:only-of-type {\n",
       "        vertical-align: middle;\n",
       "    }\n",
       "\n",
       "    .dataframe tbody tr th {\n",
       "        vertical-align: top;\n",
       "    }\n",
       "\n",
       "    .dataframe thead th {\n",
       "        text-align: right;\n",
       "    }\n",
       "</style>\n",
       "<table border=\"1\" class=\"dataframe\">\n",
       "  <thead>\n",
       "    <tr style=\"text-align: right;\">\n",
       "      <th></th>\n",
       "      <th>0</th>\n",
       "      <th>1</th>\n",
       "      <th>2</th>\n",
       "    </tr>\n",
       "  </thead>\n",
       "  <tbody>\n",
       "    <tr>\n",
       "      <th>local</th>\n",
       "      <td>2.857143</td>\n",
       "      <td>1.176471</td>\n",
       "      <td>0.740741</td>\n",
       "    </tr>\n",
       "    <tr>\n",
       "      <th>uniform</th>\n",
       "      <td>5.673047</td>\n",
       "      <td>4.006380</td>\n",
       "      <td>2.339714</td>\n",
       "    </tr>\n",
       "    <tr>\n",
       "      <th>coarse</th>\n",
       "      <td>3.897417</td>\n",
       "      <td>1.818768</td>\n",
       "      <td>0.818799</td>\n",
       "    </tr>\n",
       "    <tr>\n",
       "      <th>fine</th>\n",
       "      <td>6.818768</td>\n",
       "      <td>1.267227</td>\n",
       "      <td>5.480890</td>\n",
       "    </tr>\n",
       "  </tbody>\n",
       "</table>\n",
       "</div>"
      ],
      "text/plain": [
       "                0         1         2\n",
       "local    2.857143  1.176471  0.740741\n",
       "uniform  5.673047  4.006380  2.339714\n",
       "coarse   3.897417  1.818768  0.818799\n",
       "fine     6.818768  1.267227  5.480890"
      ]
     },
     "execution_count": 7,
     "metadata": {},
     "output_type": "execute_result"
    }
   ],
   "source": [
    "calculate_regression()"
   ]
  },
  {
   "cell_type": "code",
   "execution_count": null,
   "metadata": {},
   "outputs": [],
   "source": []
  }
 ],
 "metadata": {
  "kernelspec": {
   "display_name": "Python 3",
   "language": "python",
   "name": "python3"
  },
  "language_info": {
   "codemirror_mode": {
    "name": "ipython",
    "version": 3
   },
   "file_extension": ".py",
   "mimetype": "text/x-python",
   "name": "python",
   "nbconvert_exporter": "python",
   "pygments_lexer": "ipython3",
   "version": "3.7.5"
  }
 },
 "nbformat": 4,
 "nbformat_minor": 2
}
