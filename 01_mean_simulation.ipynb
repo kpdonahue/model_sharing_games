{
 "cells": [
  {
   "cell_type": "code",
   "execution_count": 1,
   "metadata": {},
   "outputs": [],
   "source": [
    "import numpy as np\n",
    "import pandas as pd\n",
    "from scipy import stats"
   ]
  },
  {
   "cell_type": "markdown",
   "metadata": {},
   "source": [
    "In the paper, we assume each player draws their true parameters i.i.d. (independent and identically distributed) $(\\theta_j, \\epsilon^2_j) \\sim \\Theta$, for some joint distribution $\\Theta$. $\\epsilon^2_j$ represents the amount of noise present in the sampling process for a given player. For mean estimation, $\\theta_j$ is a scalar representing the true mean of player $j$, which is what they wish to estimate. \n",
    "\n",
    "The true expected MSE each player experiences depends only on $n$, the number of samples they have, and $\\sigma^2 = Var(\\theta)$, and $\\mu_e = \\mathbb{E}[\\epsilon^2]$. "
   ]
  },
  {
   "cell_type": "markdown",
   "metadata": {},
   "source": [
    "For this code, we need a $\\Theta$ to draw from. For simplicity, we assume $\\theta, \\epsilon^2$ are independent of each other. In the paper, we use $\\sigma^2 =1$ and $\\mu_e = 10$ as common parameters, which are the values below. Note that the results do not depend on the distributions themselves or other values besides $\\sigma^2, \\mu_e$."
   ]
  },
  {
   "cell_type": "code",
   "execution_count": 2,
   "metadata": {},
   "outputs": [
    {
     "name": "stdout",
     "output_type": "stream",
     "text": [
      "1.0\n",
      "10.0\n"
     ]
    }
   ],
   "source": [
    "means_dist = stats.norm(loc = 0, scale = 1)\n",
    "variance_dist = stats.beta(a=8, b=2, scale = 50/4)\n",
    "print(means_dist.var())\n",
    "print(variance_dist.mean())"
   ]
  },
  {
   "cell_type": "markdown",
   "metadata": {},
   "source": [
    "calculate_means() calculates the exact expected MSE a set of players experiences. For reference, the equations it is using are provided below: \n",
    "\n",
    "Local learning: $$\\frac{\\mu_e}{n}$$\n",
    "\n",
    "Uniform federation: \n",
    "$$\\frac{\\mu_e}{N} + \\frac{ \\sum_{i\\ne j}n_i^2  +(N - n_j)^2}{N^2}\\sigma^2$$\n",
    "where $N = \\sum_{i=1}^{M}n_i$ and $M$ is the number of players.  \n",
    "Coarse-grained federation: \n",
    "$$\\mu_e \\left(\\frac{w^2}{n_j} + \\frac{1-w^2}{N}\\right) + \\frac{ \\sum_{i\\ne j}n_i^2  +(N - n_j)^2}{N^2} \\cdot (1-w)^2\\sigma^2$$\n",
    "where $w$ is a parameter. \n",
    "Fine-grained federation: \n",
    "$$\\mu_e\\sum_{i=1}^{M}v_{ji}^2\\cdot \\frac{1}{n_i} + \\left(\\sum_{i\\ne j}v_{ji}^2 + \\left(\\sum_{i\\ne j}v_{ji}\\right)^2\\right)\\cdot \\sigma^2$$"
   ]
  },
  {
   "cell_type": "code",
   "execution_count": 3,
   "metadata": {},
   "outputs": [],
   "source": [
    "def calculate_means(var = means_dist.var(), mue = variance_dist.mean(), \n",
    "                                n_list = [10, 20, 30], w_best = False, w_list = [0.2, 0.4, 0.6], v_best = False,\n",
    "                               v_mat = [[0.1, 0.6, 0.3], [0.2, 0.8, 0.0], [0.3, 0.5, 0.2]]):\n",
    "    '''\n",
    "    Calculate exact error for mean estimation.  \n",
    "\n",
    "    Args:\n",
    "        var: variance of true mean distributions\n",
    "        mue: mean of true error distribution. \n",
    "        n_list: a list of length M (number of players) with the number of samples each has.\n",
    "        w_best: boolean, if true, calculates error given optimal values for w\n",
    "        w_list: if w_best is false, a list of w-weights (in [0, 1]) for coarse-grained federation.\n",
    "        v_best: boolean, if true, calculates error given optimal values for v\n",
    "        v_mat: a matrix (list of lists) of weights each player uses in fine-grained federation: the rows sum up \n",
    "               to 1.\n",
    "    Returns:\n",
    "        dataframe with average error for each player, for: local, uniform, coarse-grained, and fine-grained \n",
    "        federation.  \n",
    "    '''\n",
    "    # dataframe for storing error\n",
    "    player_error = pd.DataFrame(data = 0.0, index = ['local', 'uniform', 'coarse', 'fine'], \n",
    "                                columns = range(len(n_list)))\n",
    "    N = sum(n_list)\n",
    "    \n",
    "    # for each player, calculate their true error \n",
    "    for j, n in enumerate(n_list):\n",
    "        \n",
    "        # local\n",
    "        player_error.loc['local'][j] = mue/n\n",
    "        \n",
    "        sumsquares = sum([nval**2 for nval in n_list]) - n**2 + (N-n)**2\n",
    "        \n",
    "        # uniform\n",
    "        player_error.loc['uniform'][j] = mue/N + sumsquares * var/(N**2)\n",
    "        \n",
    "        # coarse-grained\n",
    "        if w_best: \n",
    "            if len(n_list) == 1: # division by 0 issue if length 1 list - equivalent to local\n",
    "                w_err = player_error.loc['local'][j]\n",
    "            else:\n",
    "                w_err = (mue * (N-n) + var * sumsquares)/((N-n)*N + n*var*sumsquares/mue)\n",
    "        else:\n",
    "            w = w_list[j]\n",
    "            w_err = mue * ( w**2/n + (1-w**2)/N) + ((1-w)**2/(N**2)) * sumsquares* var\n",
    "        player_error.loc['coarse'][j] = w_err\n",
    "        \n",
    "        # fine-grained\n",
    "        if v_best: \n",
    "            # calculate optimal v weights\n",
    "            V_list = [var + mue/ni for ni in n_list]\n",
    "            sum_inv = sum([1/Vi for Vi in V_list]) - 1/V_list[j]\n",
    "            vjj = (1 + var * sum_inv)/(1 + V_list[j] * sum_inv)\n",
    "            weights = [(V_list[j]-var)/(Vk * (1 + V_list[j]*sum_inv)) for Vk in V_list]\n",
    "            weights[j] = vjj\n",
    "            v_vec = pd.DataFrame(weights)\n",
    "        else:\n",
    "            v_vec = pd.DataFrame(v_mat[j])\n",
    "            \n",
    "        player_error.loc['fine'][j] = (mue * (v_vec**2).T.dot(pd.DataFrame([1/nval for nval in n_list])) + \n",
    "                                       var * ((v_vec**2).sum() - v_vec.iloc[j]**2 + (1 - v_vec.iloc[j])**2))[0][0]\n",
    "        \n",
    "    return player_error"
   ]
  },
  {
   "cell_type": "markdown",
   "metadata": {},
   "source": [
    "This returns a dataframe: each column represents a different player and each row represents the error that player experiences under different local or federation strategies. "
   ]
  },
  {
   "cell_type": "code",
   "execution_count": 4,
   "metadata": {},
   "outputs": [
    {
     "data": {
      "text/html": [
       "<div>\n",
       "<style scoped>\n",
       "    .dataframe tbody tr th:only-of-type {\n",
       "        vertical-align: middle;\n",
       "    }\n",
       "\n",
       "    .dataframe tbody tr th {\n",
       "        vertical-align: top;\n",
       "    }\n",
       "\n",
       "    .dataframe thead th {\n",
       "        text-align: right;\n",
       "    }\n",
       "</style>\n",
       "<table border=\"1\" class=\"dataframe\">\n",
       "  <thead>\n",
       "    <tr style=\"text-align: right;\">\n",
       "      <th></th>\n",
       "      <th>0</th>\n",
       "      <th>1</th>\n",
       "      <th>2</th>\n",
       "    </tr>\n",
       "  </thead>\n",
       "  <tbody>\n",
       "    <tr>\n",
       "      <th>local</th>\n",
       "      <td>1.000000</td>\n",
       "      <td>0.500000</td>\n",
       "      <td>0.333333</td>\n",
       "    </tr>\n",
       "    <tr>\n",
       "      <th>uniform</th>\n",
       "      <td>1.222222</td>\n",
       "      <td>0.888889</td>\n",
       "      <td>0.555556</td>\n",
       "    </tr>\n",
       "    <tr>\n",
       "      <th>coarse</th>\n",
       "      <td>0.875556</td>\n",
       "      <td>0.480000</td>\n",
       "      <td>0.288889</td>\n",
       "    </tr>\n",
       "    <tr>\n",
       "      <th>fine</th>\n",
       "      <td>1.480000</td>\n",
       "      <td>0.440000</td>\n",
       "      <td>1.208333</td>\n",
       "    </tr>\n",
       "  </tbody>\n",
       "</table>\n",
       "</div>"
      ],
      "text/plain": [
       "                0         1         2\n",
       "local    1.000000  0.500000  0.333333\n",
       "uniform  1.222222  0.888889  0.555556\n",
       "coarse   0.875556  0.480000  0.288889\n",
       "fine     1.480000  0.440000  1.208333"
      ]
     },
     "execution_count": 4,
     "metadata": {},
     "output_type": "execute_result"
    }
   ],
   "source": [
    "calculate_means()"
   ]
  },
  {
   "cell_type": "markdown",
   "metadata": {},
   "source": [
    "Note that calculate_means(), as a default, uses w and v parameters that may not be optimal. It is possible to use calculate_means() with optimal parameters. In this case, coarse-grained federation will always be individually stable (no player wishes to unilaterally deviate) and fine-grained federation will always be core stable (no group of players wishes to deviate). Note that because this table only contains local and grand coalition error rates, it is not possible to verify the core stability property from the results given, but other notebooks in this repo will examine this further."
   ]
  },
  {
   "cell_type": "code",
   "execution_count": 5,
   "metadata": {},
   "outputs": [
    {
     "data": {
      "text/html": [
       "<div>\n",
       "<style scoped>\n",
       "    .dataframe tbody tr th:only-of-type {\n",
       "        vertical-align: middle;\n",
       "    }\n",
       "\n",
       "    .dataframe tbody tr th {\n",
       "        vertical-align: top;\n",
       "    }\n",
       "\n",
       "    .dataframe thead th {\n",
       "        text-align: right;\n",
       "    }\n",
       "</style>\n",
       "<table border=\"1\" class=\"dataframe\">\n",
       "  <thead>\n",
       "    <tr style=\"text-align: right;\">\n",
       "      <th></th>\n",
       "      <th>0</th>\n",
       "      <th>1</th>\n",
       "      <th>2</th>\n",
       "    </tr>\n",
       "  </thead>\n",
       "  <tbody>\n",
       "    <tr>\n",
       "      <th>local</th>\n",
       "      <td>1.000000</td>\n",
       "      <td>0.500000</td>\n",
       "      <td>0.333333</td>\n",
       "    </tr>\n",
       "    <tr>\n",
       "      <th>uniform</th>\n",
       "      <td>1.222222</td>\n",
       "      <td>0.888889</td>\n",
       "      <td>0.555556</td>\n",
       "    </tr>\n",
       "    <tr>\n",
       "      <th>coarse</th>\n",
       "      <td>0.632353</td>\n",
       "      <td>0.394737</td>\n",
       "      <td>0.283333</td>\n",
       "    </tr>\n",
       "    <tr>\n",
       "      <th>fine</th>\n",
       "      <td>0.630435</td>\n",
       "      <td>0.391304</td>\n",
       "      <td>0.282609</td>\n",
       "    </tr>\n",
       "  </tbody>\n",
       "</table>\n",
       "</div>"
      ],
      "text/plain": [
       "                0         1         2\n",
       "local    1.000000  0.500000  0.333333\n",
       "uniform  1.222222  0.888889  0.555556\n",
       "coarse   0.632353  0.394737  0.283333\n",
       "fine     0.630435  0.391304  0.282609"
      ]
     },
     "execution_count": 5,
     "metadata": {},
     "output_type": "execute_result"
    }
   ],
   "source": [
    "calculate_means(w_best = True, v_best = True)"
   ]
  },
  {
   "cell_type": "markdown",
   "metadata": {},
   "source": [
    "It is also possible to set the $w$ and $v$ parameters so as to match either local learning or uniform learning. "
   ]
  },
  {
   "cell_type": "code",
   "execution_count": 6,
   "metadata": {},
   "outputs": [
    {
     "data": {
      "text/html": [
       "<div>\n",
       "<style scoped>\n",
       "    .dataframe tbody tr th:only-of-type {\n",
       "        vertical-align: middle;\n",
       "    }\n",
       "\n",
       "    .dataframe tbody tr th {\n",
       "        vertical-align: top;\n",
       "    }\n",
       "\n",
       "    .dataframe thead th {\n",
       "        text-align: right;\n",
       "    }\n",
       "</style>\n",
       "<table border=\"1\" class=\"dataframe\">\n",
       "  <thead>\n",
       "    <tr style=\"text-align: right;\">\n",
       "      <th></th>\n",
       "      <th>0</th>\n",
       "      <th>1</th>\n",
       "      <th>2</th>\n",
       "    </tr>\n",
       "  </thead>\n",
       "  <tbody>\n",
       "    <tr>\n",
       "      <th>local</th>\n",
       "      <td>1.000000</td>\n",
       "      <td>0.500000</td>\n",
       "      <td>0.333333</td>\n",
       "    </tr>\n",
       "    <tr>\n",
       "      <th>uniform</th>\n",
       "      <td>1.222222</td>\n",
       "      <td>0.888889</td>\n",
       "      <td>0.555556</td>\n",
       "    </tr>\n",
       "    <tr>\n",
       "      <th>coarse</th>\n",
       "      <td>1.000000</td>\n",
       "      <td>0.500000</td>\n",
       "      <td>0.333333</td>\n",
       "    </tr>\n",
       "    <tr>\n",
       "      <th>fine</th>\n",
       "      <td>1.000000</td>\n",
       "      <td>0.500000</td>\n",
       "      <td>0.333333</td>\n",
       "    </tr>\n",
       "  </tbody>\n",
       "</table>\n",
       "</div>"
      ],
      "text/plain": [
       "                0         1         2\n",
       "local    1.000000  0.500000  0.333333\n",
       "uniform  1.222222  0.888889  0.555556\n",
       "coarse   1.000000  0.500000  0.333333\n",
       "fine     1.000000  0.500000  0.333333"
      ]
     },
     "execution_count": 6,
     "metadata": {},
     "output_type": "execute_result"
    }
   ],
   "source": [
    "# setting values to mimic local learning\n",
    "calculate_means(w_list = [1.0, 1.0, 1.0], \n",
    "                v_mat = [[1.0, 0.0, 0.0], [0.0, 1.0, 0.0], [0.0, 0.0, 1.0]])"
   ]
  },
  {
   "cell_type": "code",
   "execution_count": 7,
   "metadata": {},
   "outputs": [
    {
     "data": {
      "text/html": [
       "<div>\n",
       "<style scoped>\n",
       "    .dataframe tbody tr th:only-of-type {\n",
       "        vertical-align: middle;\n",
       "    }\n",
       "\n",
       "    .dataframe tbody tr th {\n",
       "        vertical-align: top;\n",
       "    }\n",
       "\n",
       "    .dataframe thead th {\n",
       "        text-align: right;\n",
       "    }\n",
       "</style>\n",
       "<table border=\"1\" class=\"dataframe\">\n",
       "  <thead>\n",
       "    <tr style=\"text-align: right;\">\n",
       "      <th></th>\n",
       "      <th>0</th>\n",
       "      <th>1</th>\n",
       "      <th>2</th>\n",
       "    </tr>\n",
       "  </thead>\n",
       "  <tbody>\n",
       "    <tr>\n",
       "      <th>local</th>\n",
       "      <td>1.000000</td>\n",
       "      <td>0.500000</td>\n",
       "      <td>0.333333</td>\n",
       "    </tr>\n",
       "    <tr>\n",
       "      <th>uniform</th>\n",
       "      <td>1.222222</td>\n",
       "      <td>0.888889</td>\n",
       "      <td>0.555556</td>\n",
       "    </tr>\n",
       "    <tr>\n",
       "      <th>coarse</th>\n",
       "      <td>1.222222</td>\n",
       "      <td>0.888889</td>\n",
       "      <td>0.555556</td>\n",
       "    </tr>\n",
       "    <tr>\n",
       "      <th>fine</th>\n",
       "      <td>1.222222</td>\n",
       "      <td>0.888889</td>\n",
       "      <td>0.555556</td>\n",
       "    </tr>\n",
       "  </tbody>\n",
       "</table>\n",
       "</div>"
      ],
      "text/plain": [
       "                0         1         2\n",
       "local    1.000000  0.500000  0.333333\n",
       "uniform  1.222222  0.888889  0.555556\n",
       "coarse   1.222222  0.888889  0.555556\n",
       "fine     1.222222  0.888889  0.555556"
      ]
     },
     "execution_count": 7,
     "metadata": {},
     "output_type": "execute_result"
    }
   ],
   "source": [
    "# setting values to mimic uniform learning\n",
    "calculate_means(w_list = [0.0, 0.0, 0.0], \n",
    "                v_mat = [[1.0/6, 2.0/6, 0.5], [1.0/6, 2.0/6, 0.5], [1.0/6, 2.0/6, 0.5]])"
   ]
  },
  {
   "cell_type": "markdown",
   "metadata": {},
   "source": [
    "simulate_means() simulates the process described above: players draw true mean and variance parameters $\\theta, \\epsilon^2$, then draw data points $Y \\sim D_j(\\theta, \\epsilon^2)$ and calculate empirical means using local learning or some variant of federation. Results should match calculate_means() closely, if the same parameters are used and if sufficient simulations are used. "
   ]
  },
  {
   "cell_type": "code",
   "execution_count": 8,
   "metadata": {},
   "outputs": [],
   "source": [
    "def simulate_means(mean_dist = means_dist, err_dist = variance_dist, draws_dist = stats.norm, \n",
    "                   n_list = [10, 20, 30], w_list = [0.2, 0.4, 0.6], \n",
    "                   v_mat = [[0.1, 0.6, 0.3], [0.2, 0.8, 0.0], [0.3, 0.5, 0.2]], \n",
    "                   world_nrun = 100, sample_nrun = 1):\n",
    "    \n",
    "    '''\n",
    "    Simulate mean estimation. \n",
    "    \n",
    "\n",
    "    Args:\n",
    "        mean_dist: distribution to draw true means from (mean = theta)\n",
    "        err_dist: distribution to draw true error parameters from (err = epsilon^2)\n",
    "        draws_dist: distribution each player draws from: with mean theta and variance epsilon^2. \n",
    "        n_list: a list of length M (number of players) with the number of samples each has. \n",
    "        w_list: a list of w-weights each player uses for coarse-grained federation.  \n",
    "        v_mat: a matrix (list of lists) of weights each player uses in fine-grained federation: the rows sum up \n",
    "               to 1.\n",
    "        world_nrun: number of times where means and errors are re-drawn\n",
    "        sample_nrun: for each worldrun, number of times samples are re-drawn\n",
    "    Returns:\n",
    "        dataframe with average error for each player, for local, uniform, coarse-grained, and fine-grained \n",
    "        federation.  \n",
    "    '''\n",
    "    M = len(w_list)\n",
    "    n_list_pd = pd.DataFrame(n_list)\n",
    "    w_list_pd = pd.DataFrame(w_list)\n",
    "    v_mat_pd = pd.DataFrame(v_mat)\n",
    "    \n",
    "    # dataframe for storing error\n",
    "    player_error = pd.DataFrame(data = 0, index = ['local', 'uniform', 'coarse', 'fine'], \n",
    "                                columns = range(len(n_list)))\n",
    "    \n",
    "    for wn in range(world_nrun):\n",
    "        # draw means and errors\n",
    "        means = mean_dist.rvs(M) \n",
    "        errors = err_dist.rvs(M)    \n",
    "        \n",
    "        for sn in range(sample_nrun): \n",
    "            \n",
    "            # draw samples for each player\n",
    "            sample_dict = {}\n",
    "            for i in range(M):\n",
    "                sample_dict[i] = draws_dist(means[i], np.sqrt(errors[i])).rvs(n_list[i])\n",
    "            \n",
    "            # calculate mean estimates\n",
    "            local_est = pd.DataFrame([sample_dict[i].mean() for i in range(M)])\n",
    "            uniform_est = local_est.T.dot(n_list_pd)[0][0]/sum(n_list)\n",
    "            coarse_est = w_list_pd * local_est + (1-w_list_pd) * uniform_est\n",
    "            fine_est = v_mat_pd.dot(local_est)\n",
    "            \n",
    "            # calculate MSE\n",
    "            player_error.loc['local'] += ((local_est - pd.DataFrame(means))**2).values.flatten()\n",
    "            player_error.loc['uniform'] += ((uniform_est - pd.DataFrame(means))**2).values.flatten()\n",
    "            player_error.loc['coarse'] += ((coarse_est - pd.DataFrame(means))**2).values.flatten()\n",
    "            player_error.loc['fine'] += ((fine_est - pd.DataFrame(means))**2).values.flatten()\n",
    "    \n",
    "    player_error = player_error/(world_nrun * sample_nrun)\n",
    "    \n",
    "    return player_error"
   ]
  },
  {
   "cell_type": "markdown",
   "metadata": {},
   "source": [
    "Simulating means and comparing to the true means. "
   ]
  },
  {
   "cell_type": "code",
   "execution_count": 9,
   "metadata": {},
   "outputs": [
    {
     "data": {
      "text/html": [
       "<div>\n",
       "<style scoped>\n",
       "    .dataframe tbody tr th:only-of-type {\n",
       "        vertical-align: middle;\n",
       "    }\n",
       "\n",
       "    .dataframe tbody tr th {\n",
       "        vertical-align: top;\n",
       "    }\n",
       "\n",
       "    .dataframe thead th {\n",
       "        text-align: right;\n",
       "    }\n",
       "</style>\n",
       "<table border=\"1\" class=\"dataframe\">\n",
       "  <thead>\n",
       "    <tr style=\"text-align: right;\">\n",
       "      <th></th>\n",
       "      <th>0</th>\n",
       "      <th>1</th>\n",
       "      <th>2</th>\n",
       "    </tr>\n",
       "  </thead>\n",
       "  <tbody>\n",
       "    <tr>\n",
       "      <th>local</th>\n",
       "      <td>1.001074</td>\n",
       "      <td>0.512947</td>\n",
       "      <td>0.344872</td>\n",
       "    </tr>\n",
       "    <tr>\n",
       "      <th>uniform</th>\n",
       "      <td>1.182144</td>\n",
       "      <td>0.909853</td>\n",
       "      <td>0.566677</td>\n",
       "    </tr>\n",
       "    <tr>\n",
       "      <th>coarse</th>\n",
       "      <td>0.835722</td>\n",
       "      <td>0.495870</td>\n",
       "      <td>0.295387</td>\n",
       "    </tr>\n",
       "    <tr>\n",
       "      <th>fine</th>\n",
       "      <td>1.435403</td>\n",
       "      <td>0.426496</td>\n",
       "      <td>1.239961</td>\n",
       "    </tr>\n",
       "  </tbody>\n",
       "</table>\n",
       "</div>"
      ],
      "text/plain": [
       "                0         1         2\n",
       "local    1.001074  0.512947  0.344872\n",
       "uniform  1.182144  0.909853  0.566677\n",
       "coarse   0.835722  0.495870  0.295387\n",
       "fine     1.435403  0.426496  1.239961"
      ]
     },
     "execution_count": 9,
     "metadata": {},
     "output_type": "execute_result"
    }
   ],
   "source": [
    "simulate_means(world_nrun = 1000)"
   ]
  },
  {
   "cell_type": "code",
   "execution_count": 10,
   "metadata": {},
   "outputs": [
    {
     "data": {
      "text/html": [
       "<div>\n",
       "<style scoped>\n",
       "    .dataframe tbody tr th:only-of-type {\n",
       "        vertical-align: middle;\n",
       "    }\n",
       "\n",
       "    .dataframe tbody tr th {\n",
       "        vertical-align: top;\n",
       "    }\n",
       "\n",
       "    .dataframe thead th {\n",
       "        text-align: right;\n",
       "    }\n",
       "</style>\n",
       "<table border=\"1\" class=\"dataframe\">\n",
       "  <thead>\n",
       "    <tr style=\"text-align: right;\">\n",
       "      <th></th>\n",
       "      <th>0</th>\n",
       "      <th>1</th>\n",
       "      <th>2</th>\n",
       "    </tr>\n",
       "  </thead>\n",
       "  <tbody>\n",
       "    <tr>\n",
       "      <th>local</th>\n",
       "      <td>1.000000</td>\n",
       "      <td>0.500000</td>\n",
       "      <td>0.333333</td>\n",
       "    </tr>\n",
       "    <tr>\n",
       "      <th>uniform</th>\n",
       "      <td>1.222222</td>\n",
       "      <td>0.888889</td>\n",
       "      <td>0.555556</td>\n",
       "    </tr>\n",
       "    <tr>\n",
       "      <th>coarse</th>\n",
       "      <td>0.875556</td>\n",
       "      <td>0.480000</td>\n",
       "      <td>0.288889</td>\n",
       "    </tr>\n",
       "    <tr>\n",
       "      <th>fine</th>\n",
       "      <td>1.480000</td>\n",
       "      <td>0.440000</td>\n",
       "      <td>1.208333</td>\n",
       "    </tr>\n",
       "  </tbody>\n",
       "</table>\n",
       "</div>"
      ],
      "text/plain": [
       "                0         1         2\n",
       "local    1.000000  0.500000  0.333333\n",
       "uniform  1.222222  0.888889  0.555556\n",
       "coarse   0.875556  0.480000  0.288889\n",
       "fine     1.480000  0.440000  1.208333"
      ]
     },
     "execution_count": 10,
     "metadata": {},
     "output_type": "execute_result"
    }
   ],
   "source": [
    "calculate_means()"
   ]
  }
 ],
 "metadata": {
  "kernelspec": {
   "display_name": "Python 3",
   "language": "python",
   "name": "python3"
  },
  "language_info": {
   "codemirror_mode": {
    "name": "ipython",
    "version": 3
   },
   "file_extension": ".py",
   "mimetype": "text/x-python",
   "name": "python",
   "nbconvert_exporter": "python",
   "pygments_lexer": "ipython3",
   "version": "3.7.5"
  }
 },
 "nbformat": 4,
 "nbformat_minor": 2
}
